{
 "cells": [
  {
   "cell_type": "markdown",
   "id": "c575922a",
   "metadata": {},
   "source": [
    "# Chapter 3. Classification"
   ]
  },
  {
   "cell_type": "markdown",
   "id": "b88152da",
   "metadata": {},
   "source": [
    "## MNIST\n",
    "#### About Data\n",
    "The MNIST dataset, which is a set of 70,000\n",
    "small images of digits handwritten by high school students and employees\n",
    "of the US Census Bureau."
   ]
  },
  {
   "cell_type": "code",
   "execution_count": 1,
   "id": "ef1c585e",
   "metadata": {},
   "outputs": [],
   "source": [
    "from sklearn.datasets import fetch_openml\n",
    "\n",
    "# download the data\n",
    "mnist = fetch_openml('mnist_784', as_frame=False) "
   ]
  },
  {
   "cell_type": "code",
   "execution_count": 2,
   "id": "2f218f47",
   "metadata": {},
   "outputs": [
    {
     "data": {
      "text/plain": [
       "array([[0., 0., 0., ..., 0., 0., 0.],\n",
       "       [0., 0., 0., ..., 0., 0., 0.],\n",
       "       [0., 0., 0., ..., 0., 0., 0.],\n",
       "       ...,\n",
       "       [0., 0., 0., ..., 0., 0., 0.],\n",
       "       [0., 0., 0., ..., 0., 0., 0.],\n",
       "       [0., 0., 0., ..., 0., 0., 0.]])"
      ]
     },
     "execution_count": 2,
     "metadata": {},
     "output_type": "execute_result"
    }
   ],
   "source": [
    "X, y = mnist.data, mnist.target\n",
    "X"
   ]
  },
  {
   "cell_type": "code",
   "execution_count": 3,
   "id": "aa2e83e7",
   "metadata": {},
   "outputs": [
    {
     "data": {
      "text/plain": [
       "(70000, 784)"
      ]
     },
     "execution_count": 3,
     "metadata": {},
     "output_type": "execute_result"
    }
   ],
   "source": [
    "X.shape      #2D-array"
   ]
  },
  {
   "cell_type": "markdown",
   "id": "2b77ffeb",
   "metadata": {},
   "source": [
    "There are 70,000 images, and each image has 784 features. "
   ]
  },
  {
   "cell_type": "code",
   "execution_count": 4,
   "id": "6bda860d",
   "metadata": {},
   "outputs": [
    {
     "data": {
      "text/plain": [
       "(70000,)"
      ]
     },
     "execution_count": 4,
     "metadata": {},
     "output_type": "execute_result"
    }
   ],
   "source": [
    "y.shape      #1D array"
   ]
  },
  {
   "cell_type": "code",
   "execution_count": 5,
   "id": "642dd3db",
   "metadata": {
    "scrolled": true
   },
   "outputs": [
    {
     "data": {
      "image/png": "[encoded data removed]",
      "text/plain": [
       "<Figure size 432x288 with 1 Axes>"
      ]
     },
     "metadata": {
      "needs_background": "light"
     },
     "output_type": "display_data"
    }
   ],
   "source": [
    "import matplotlib.pyplot as plt \n",
    "\n",
    "def plot_digit(image_data):\n",
    "    image = image_data.reshape(28, 28)\n",
    "    plt.imshow(image, cmap=\"binary\")\n",
    "    plt.axis(\"off\")\n",
    "    \n",
    "some_digit = X[0]\n",
    "plot_digit(some_digit)\n",
    "plt.show()"
   ]
  },
  {
   "cell_type": "code",
   "execution_count": 6,
   "id": "69519209",
   "metadata": {},
   "outputs": [
    {
     "data": {
      "text/plain": [
       "'5'"
      ]
     },
     "execution_count": 6,
     "metadata": {},
     "output_type": "execute_result"
    }
   ],
   "source": [
    "y[0]"
   ]
  },
  {
   "cell_type": "code",
   "execution_count": 7,
   "id": "b5080ac9",
   "metadata": {},
   "outputs": [],
   "source": [
    "#from string to integer\n",
    "import numpy as np\n",
    "y = y.astype(np.uint8)"
   ]
  },
  {
   "cell_type": "markdown",
   "id": "e6238963",
   "metadata": {},
   "source": [
    "### Train Test Split"
   ]
  },
  {
   "cell_type": "code",
   "execution_count": 8,
   "id": "f0f9a171",
   "metadata": {},
   "outputs": [],
   "source": [
    "X_train, X_test, y_train, y_test = X[:60000], X[60000:], y[:60000], X[60000:]"
   ]
  },
  {
   "cell_type": "markdown",
   "id": "9bd6ed2a",
   "metadata": {},
   "source": [
    "### Training a Binary Classifier\n"
   ]
  },
  {
   "cell_type": "code",
   "execution_count": 9,
   "id": "ee530e34",
   "metadata": {},
   "outputs": [],
   "source": [
    "y_train_5 = (y_train == 5)   # True for all 5s\n",
    "y_test_5 = (y_test == 5)"
   ]
  },
  {
   "cell_type": "markdown",
   "id": "df1af8e0",
   "metadata": {},
   "source": [
    "#### Stochastic Gradient Descent (SGD) classifier"
   ]
  },
  {
   "cell_type": "code",
   "execution_count": 10,
   "id": "046b0588",
   "metadata": {},
   "outputs": [
    {
     "data": {
      "text/plain": [
       "SGDClassifier(random_state=42)"
      ]
     },
     "execution_count": 10,
     "metadata": {},
     "output_type": "execute_result"
    }
   ],
   "source": [
    "from sklearn.linear_model import SGDClassifier\n",
    "\n",
    "# model\n",
    "sgd_clf = SGDClassifier(random_state=42)\n",
    "sgd_clf.fit(X_train, y_train_5)"
   ]
  },
  {
   "cell_type": "code",
   "execution_count": 11,
   "id": "6801c396",
   "metadata": {},
   "outputs": [
    {
     "data": {
      "text/plain": [
       "array([ True])"
      ]
     },
     "execution_count": 11,
     "metadata": {},
     "output_type": "execute_result"
    }
   ],
   "source": [
    "# using the model to detect number of 5s\n",
    "sgd_clf.predict([some_digit])"
   ]
  },
  {
   "cell_type": "markdown",
   "id": "16946030",
   "metadata": {},
   "source": [
    "### Evaluation of Model"
   ]
  },
  {
   "cell_type": "markdown",
   "id": "38b4a483",
   "metadata": {},
   "source": [
    "#### Measuring the Accuracy \n"
   ]
  },
  {
   "cell_type": "code",
   "execution_count": 12,
   "id": "a6afa3a2",
   "metadata": {},
   "outputs": [
    {
     "data": {
      "text/plain": [
       "array([0.95035, 0.96035, 0.9604 ])"
      ]
     },
     "execution_count": 12,
     "metadata": {},
     "output_type": "execute_result"
    }
   ],
   "source": [
    "from sklearn.model_selection import cross_val_score\n",
    "cross_val_score(sgd_clf, X_train, y_train_5, cv=3,\n",
    "               scoring=\"accuracy\")"
   ]
  },
  {
   "cell_type": "markdown",
   "id": "85e4664e",
   "metadata": {},
   "source": [
    "It can be observed the model's accuracy is above 95%"
   ]
  },
  {
   "cell_type": "markdown",
   "id": "285d4de7",
   "metadata": {},
   "source": [
    "#### Dummy Classifier"
   ]
  },
  {
   "cell_type": "code",
   "execution_count": 13,
   "id": "20bc2121",
   "metadata": {},
   "outputs": [
    {
     "name": "stdout",
     "output_type": "stream",
     "text": [
      "False\n"
     ]
    }
   ],
   "source": [
    "from sklearn.dummy import DummyClassifier\n",
    "# model\n",
    "dummy_clf = DummyClassifier()\n",
    "dummy_clf.fit(X_train, y_train_5)\n",
    "print(any(dummy_clf.predict([X_train])))   # predicts False, no 5s"
   ]
  },
  {
   "cell_type": "code",
   "execution_count": 14,
   "id": "dfe4388e",
   "metadata": {},
   "outputs": [
    {
     "data": {
      "text/plain": [
       "array([0.90965, 0.90965, 0.90965])"
      ]
     },
     "execution_count": 14,
     "metadata": {},
     "output_type": "execute_result"
    }
   ],
   "source": [
    "# model's accuracy\n",
    "cross_val_score(dummy_clf, X_train, y_train_5, cv=3, scoring=\"accuracy\")"
   ]
  },
  {
   "cell_type": "markdown",
   "id": "39f0a3df",
   "metadata": {},
   "source": [
    "### Confusion Matrix"
   ]
  },
  {
   "cell_type": "code",
   "execution_count": 15,
   "id": "1feb1cc0",
   "metadata": {},
   "outputs": [],
   "source": [
    "from sklearn.model_selection import cross_val_predict\n",
    "\n",
    "y_train_pred = cross_val_predict(sgd_clf, X_train, y_train_5, cv=3)"
   ]
  },
  {
   "cell_type": "code",
   "execution_count": 16,
   "id": "fbb0793b",
   "metadata": {},
   "outputs": [
    {
     "data": {
      "text/plain": [
       "array([[53892,   687],\n",
       "       [ 1891,  3530]], dtype=int64)"
      ]
     },
     "execution_count": 16,
     "metadata": {},
     "output_type": "execute_result"
    }
   ],
   "source": [
    "# confusion matrix\n",
    "from sklearn.metrics import confusion_matrix\n",
    "cm = confusion_matrix(y_train_5, y_train_pred)\n",
    "cm"
   ]
  },
  {
   "cell_type": "code",
   "execution_count": 17,
   "id": "42054ffb",
   "metadata": {},
   "outputs": [
    {
     "data": {
      "image/png": "[encoded data removed]",
      "text/plain": [
       "<Figure size 432x288 with 2 Axes>"
      ]
     },
     "metadata": {
      "needs_background": "light"
     },
     "output_type": "display_data"
    }
   ],
   "source": [
    "from sklearn.metrics import ConfusionMatrixDisplay\n",
    "disp = ConfusionMatrixDisplay(confusion_matrix=cm, display_labels=sgd_clf.classes_)\n",
    "disp.plot()\n",
    "plt.show()"
   ]
  },
  {
   "cell_type": "code",
   "execution_count": 18,
   "id": "b1e44e68",
   "metadata": {},
   "outputs": [
    {
     "data": {
      "text/plain": [
       "array([[54579,     0],\n",
       "       [    0,  5421]], dtype=int64)"
      ]
     },
     "execution_count": 18,
     "metadata": {},
     "output_type": "execute_result"
    }
   ],
   "source": [
    "# pretend perfection\n",
    "y_train_perfect_predictions = y_train_5\n",
    "confusion_matrix(y_train_5, y_train_perfect_predictions)"
   ]
  },
  {
   "cell_type": "code",
   "execution_count": 19,
   "id": "0a8c5a32",
   "metadata": {},
   "outputs": [
    {
     "name": "stdout",
     "output_type": "stream",
     "text": [
      "              precision    recall  f1-score   support\n",
      "\n",
      "       False       0.97      0.99      0.98     54579\n",
      "        True       0.84      0.65      0.73      5421\n",
      "\n",
      "    accuracy                           0.96     60000\n",
      "   macro avg       0.90      0.82      0.85     60000\n",
      "weighted avg       0.95      0.96      0.95     60000\n",
      "\n"
     ]
    }
   ],
   "source": [
    "# report of the model\n",
    "from sklearn.metrics import classification_report\n",
    "print(classification_report(y_train_5, y_train_pred))"
   ]
  },
  {
   "cell_type": "markdown",
   "id": "fced290e",
   "metadata": {},
   "source": [
    "from the report, if when it claims an image represent 5, it is 84% correct and it detects it 65% of the time."
   ]
  },
  {
   "cell_type": "markdown",
   "id": "24bba92a",
   "metadata": {},
   "source": [
    "### Precision and Recall Tradeoffs"
   ]
  },
  {
   "cell_type": "code",
   "execution_count": 20,
   "id": "15b8d263",
   "metadata": {},
   "outputs": [
    {
     "data": {
      "text/plain": [
       "array([2164.22030239])"
      ]
     },
     "execution_count": 20,
     "metadata": {},
     "output_type": "execute_result"
    }
   ],
   "source": [
    "# returns a score of each instance\n",
    "y_scores = sgd_clf.decision_function([some_digit]) \n",
    "y_scores"
   ]
  },
  {
   "cell_type": "code",
   "execution_count": 21,
   "id": "1d058ef1",
   "metadata": {},
   "outputs": [
    {
     "data": {
      "text/plain": [
       "array([ True])"
      ]
     },
     "execution_count": 21,
     "metadata": {},
     "output_type": "execute_result"
    }
   ],
   "source": [
    "threshold = 0   # set threshold\n",
    "y_some_digit_pred = (y_scores > threshold)   # prediction \n",
    "y_some_digit_pred"
   ]
  },
  {
   "cell_type": "markdown",
   "id": "12120824",
   "metadata": {},
   "source": [
    "it can be observed that threshold is 0"
   ]
  },
  {
   "cell_type": "code",
   "execution_count": 22,
   "id": "b6e64b2c",
   "metadata": {},
   "outputs": [
    {
     "data": {
      "text/plain": [
       "array([False])"
      ]
     },
     "execution_count": 22,
     "metadata": {},
     "output_type": "execute_result"
    }
   ],
   "source": [
    "threshold = 3000   #set thresold\n",
    "y_some_digit_pred = (y_scores > threshold)\n",
    "y_some_digit_pred"
   ]
  },
  {
   "cell_type": "markdown",
   "id": "0a92067d",
   "metadata": {},
   "source": [
    "Raising threshold decreases the recall"
   ]
  },
  {
   "cell_type": "markdown",
   "id": "5cffd100",
   "metadata": {},
   "source": [
    "####  Deciding on what threshold to use "
   ]
  },
  {
   "cell_type": "code",
   "execution_count": 23,
   "id": "28e76e02",
   "metadata": {},
   "outputs": [],
   "source": [
    "# scores of predictions\n",
    "y_scores = cross_val_predict(sgd_clf, X_train, y_train_5, cv=3, method=\"decision_function\")"
   ]
  },
  {
   "cell_type": "code",
   "execution_count": 24,
   "id": "d641c97d",
   "metadata": {},
   "outputs": [],
   "source": [
    "from sklearn.metrics import precision_recall_curve\n",
    "\n",
    "precisions, recalls, thresholds = precision_recall_curve(y_train_5, y_scores)"
   ]
  },
  {
   "cell_type": "code",
   "execution_count": 25,
   "id": "8c3edfad",
   "metadata": {},
   "outputs": [
    {
     "data": {
      "image/png": "[encoded data removed]",
      "text/plain": [
       "<Figure size 432x288 with 1 Axes>"
      ]
     },
     "metadata": {
      "needs_background": "light"
     },
     "output_type": "display_data"
    }
   ],
   "source": [
    "import matplotlib.pyplot as plt\n",
    "plt.plot(thresholds, precisions[:-1], \"b--\", label=\"Precision\", linewidth=2)\n",
    "plt.plot(thresholds, recalls[:-1], \"g-\", label=\"Recalls\", linewidth=2)\n",
    "plt.vlines(threshold, 0, 1.0, \"k\", \"dotted\", label=\"threshold\")\n",
    "plt.grid(True, linestyle=\"--\")\n",
    "plt.legend()\n",
    "plt.show()"
   ]
  },
  {
   "cell_type": "markdown",
   "id": "128773ec",
   "metadata": {},
   "source": [
    "#### Selecting Good Precision Tradeoff 2"
   ]
  },
  {
   "cell_type": "code",
   "execution_count": 26,
   "id": "f35f65c9",
   "metadata": {},
   "outputs": [
    {
     "data": {
      "image/png": "[encoded data removed]",
      "text/plain": [
       "<Figure size 432x288 with 1 Axes>"
      ]
     },
     "metadata": {
      "needs_background": "light"
     },
     "output_type": "display_data"
    }
   ],
   "source": [
    "%matplotlib inline\n",
    "plt.plot(recalls, precisions, \n",
    "         linewidth=2, label=\"Precision/Recall Curve\")\n",
    "plt.grid(True, linestyle=\"--\")\n",
    "plt.tick_params(labelsize=10)\n",
    "plt.xlabel(\"Recall\")\n",
    "plt.ylabel(\"Precision\")\n",
    "plt.legend()\n",
    "plt.show()"
   ]
  },
  {
   "cell_type": "code",
   "execution_count": 27,
   "id": "26c39dd7",
   "metadata": {},
   "outputs": [
    {
     "data": {
      "text/plain": [
       "3370.0194991439557"
      ]
     },
     "execution_count": 27,
     "metadata": {},
     "output_type": "execute_result"
    }
   ],
   "source": [
    "# 90% Precision\n",
    "idx_for_90_precision = (precisions >= 0.9).argmax() #returns max first index\n",
    "threshold_for_90_precision = thresholds[idx_for_90_precision]\n",
    "threshold_for_90_precision"
   ]
  },
  {
   "cell_type": "code",
   "execution_count": 28,
   "id": "b29d2941",
   "metadata": {},
   "outputs": [],
   "source": [
    "# prediction\n",
    "y_train_pred_90 = (y_scores >= threshold_for_90_precision)"
   ]
  },
  {
   "cell_type": "code",
   "execution_count": 29,
   "id": "48926492",
   "metadata": {},
   "outputs": [
    {
     "name": "stdout",
     "output_type": "stream",
     "text": [
      "              precision    recall  f1-score   support\n",
      "\n",
      "       False       0.95      0.99      0.97     54579\n",
      "        True       0.90      0.48      0.63      5421\n",
      "\n",
      "    accuracy                           0.95     60000\n",
      "   macro avg       0.93      0.74      0.80     60000\n",
      "weighted avg       0.95      0.95      0.94     60000\n",
      "\n"
     ]
    }
   ],
   "source": [
    "# check the metrics\n",
    "print(classification_report(y_train_5, y_train_pred_90))"
   ]
  },
  {
   "cell_type": "markdown",
   "id": "9cb96067",
   "metadata": {},
   "source": [
    "it can be observed that the precision is 90% while the recall 48%. This seems to be a good tradeoff for the model"
   ]
  },
  {
   "cell_type": "markdown",
   "id": "b5c98cd2",
   "metadata": {},
   "source": [
    "#### The ROC Curve"
   ]
  },
  {
   "cell_type": "code",
   "execution_count": 30,
   "id": "584f1245",
   "metadata": {},
   "outputs": [],
   "source": [
    "from sklearn.metrics import roc_curve\n",
    "fpr, tpr, thresholds = roc_curve(y_train_5, y_scores)"
   ]
  },
  {
   "cell_type": "code",
   "execution_count": 31,
   "id": "981da4d4",
   "metadata": {},
   "outputs": [],
   "source": [
    "idx_for_threshold_at_90 = (thresholds <=\n",
    "                           threshold_for_90_precision).argmax()\n",
    "tpr_90, fpr_90 = tpr[idx_for_threshold_at_90], fpr[idx_for_threshold_at_90]"
   ]
  },
  {
   "cell_type": "code",
   "execution_count": 32,
   "id": "870ae5da",
   "metadata": {
    "scrolled": true
   },
   "outputs": [
    {
     "data": {
      "image/png": "[encoded data removed]",
      "text/plain": [
       "<Figure size 432x288 with 1 Axes>"
      ]
     },
     "metadata": {
      "needs_background": "light"
     },
     "output_type": "display_data"
    }
   ],
   "source": [
    "# plot roc curve\n",
    "plt.plot(fpr, tpr, linewidth=2, label=\"ROC Curve\")\n",
    "#dummy classifier\n",
    "plt.plot([0, 1], [0, 1], \"k:\", \n",
    "         label=\"Random classifier's ROC curve\")\n",
    "plt.plot([fpr_90], [tpr_90], \"ko\", label=\"Threshold for 90% precision\")\n",
    "plt.legend()\n",
    "plt.ylabel(\"True Positive Rate\")\n",
    "plt.xlabel(\"False Positive Rate\")\n",
    "plt.show()"
   ]
  },
  {
   "cell_type": "markdown",
   "id": "9d462fe5",
   "metadata": {},
   "source": [
    "The higher the recall (TPR), the more false\n",
    "positives (FPR) the classifier produces"
   ]
  },
  {
   "cell_type": "code",
   "execution_count": 33,
   "id": "0186b88d",
   "metadata": {},
   "outputs": [
    {
     "data": {
      "text/plain": [
       "0.9604938554008616"
      ]
     },
     "execution_count": 33,
     "metadata": {},
     "output_type": "execute_result"
    }
   ],
   "source": [
    "from sklearn.metrics import auc, roc_auc_score\n",
    "roc_auc_score(y_train_5, y_scores)"
   ]
  },
  {
   "cell_type": "markdown",
   "id": "5a769b34",
   "metadata": {},
   "source": [
    "96% accuracy on the majority class which is negative. So this metric is not good for the model."
   ]
  },
  {
   "cell_type": "markdown",
   "id": "acbe4ff0",
   "metadata": {},
   "source": [
    "#### Random Forest Classifier"
   ]
  },
  {
   "cell_type": "code",
   "execution_count": null,
   "id": "9f8c4e16",
   "metadata": {},
   "outputs": [],
   "source": [
    "from sklearn.ensemble import RandomForestClassifier\n",
    "#initialize model\n",
    "forest_clf = RandomForestClassifier(random_state=42)\n",
    "y_probas_forest = cross_val_predict(forest_clf, \n",
    "                                    X_train, y_train_5, cv=3,\n",
    "                                    method=\"predict_proba\")"
   ]
  },
  {
   "cell_type": "code",
   "execution_count": null,
   "id": "26959702",
   "metadata": {},
   "outputs": [],
   "source": [
    "y_probas_forest[:2] # class pribs for first two images "
   ]
  },
  {
   "cell_type": "code",
   "execution_count": null,
   "id": "7dca0012",
   "metadata": {},
   "outputs": [],
   "source": [
    "y_scores_forest = y_probas_forest[:, 1]\n",
    "y_scores_forest"
   ]
  },
  {
   "cell_type": "code",
   "execution_count": null,
   "id": "f6eb1559",
   "metadata": {},
   "outputs": [],
   "source": [
    "precisions_forest, recalls_forest, thresholds_forest = precision_recall_curve(y_train_5,\n",
    "                                                                              y_scores_forest)\n",
    " \n",
    "plt.plot(recalls_forest, precisions_forest, \"b-\",linewidth=2, \n",
    "         label=\"Random Forest\" )\n",
    "plt.plot(recalls, precisions, \"--\", linewidth=2, label=\"SGD\")\n",
    "plt.legend()\n",
    "plt.ylabel(\"Precision\")\n",
    "plt.xlabel(\"Recall\")\n",
    "plt.show()"
   ]
  },
  {
   "cell_type": "code",
   "execution_count": null,
   "id": "d89579bd",
   "metadata": {},
   "outputs": [],
   "source": [
    "# positive proba\n",
    "y_train_pred_forest = y_probas_forest[:, 1] >= 0.5 \n",
    "\n",
    "from sklearn.metrics import f1_score\n",
    "f1_score(y_train_5, y_train_pred_forest)"
   ]
  },
  {
   "cell_type": "code",
   "execution_count": null,
   "id": "a10b9fd9",
   "metadata": {},
   "outputs": [],
   "source": [
    "roc_auc_score(y_train_5, y_scores_forest)"
   ]
  }
 ],
 "metadata": {
  "kernelspec": {
   "display_name": "Python 3 (ipykernel)",
   "language": "python",
   "name": "python3"
  },
  "language_info": {
   "codemirror_mode": {
    "name": "ipython",
    "version": 3
   },
   "file_extension": ".py",
   "mimetype": "text/x-python",
   "name": "python",
   "nbconvert_exporter": "python",
   "pygments_lexer": "ipython3",
   "version": "3.9.12"
  }
 },
 "nbformat": 4,
 "nbformat_minor": 5
}
