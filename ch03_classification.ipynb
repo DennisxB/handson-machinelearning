{
 "cells": [
  {
   "cell_type": "markdown",
   "id": "c575922a",
   "metadata": {},
   "source": [
    "# Chapter 3. Classification"
   ]
  },
  {
   "cell_type": "markdown",
   "id": "b88152da",
   "metadata": {},
   "source": [
    "## MNIST\n",
    "#### About Data\n",
    "The MNIST dataset, which is a set of 70,000\n",
    "small images of digits handwritten by high school students and employees\n",
    "of the US Census Bureau."
   ]
  },
  {
   "cell_type": "code",
   "execution_count": 1,
   "id": "ef1c585e",
   "metadata": {},
   "outputs": [],
   "source": [
    "from sklearn.datasets import fetch_openml\n",
    "\n",
    "# download the data\n",
    "mnist = fetch_openml('mnist_784', as_frame=False) "
   ]
  },
  {
   "cell_type": "code",
   "execution_count": 2,
   "id": "2f218f47",
   "metadata": {},
   "outputs": [
    {
     "data": {
      "text/plain": [
       "array([[0., 0., 0., ..., 0., 0., 0.],\n",
       "       [0., 0., 0., ..., 0., 0., 0.],\n",
       "       [0., 0., 0., ..., 0., 0., 0.],\n",
       "       ...,\n",
       "       [0., 0., 0., ..., 0., 0., 0.],\n",
       "       [0., 0., 0., ..., 0., 0., 0.],\n",
       "       [0., 0., 0., ..., 0., 0., 0.]])"
      ]
     },
     "execution_count": 2,
     "metadata": {},
     "output_type": "execute_result"
    }
   ],
   "source": [
    "X, y = mnist.data, mnist.target\n",
    "X"
   ]
  },
  {
   "cell_type": "code",
   "execution_count": 3,
   "id": "aa2e83e7",
   "metadata": {},
   "outputs": [
    {
     "data": {
      "text/plain": [
       "(70000, 784)"
      ]
     },
     "execution_count": 3,
     "metadata": {},
     "output_type": "execute_result"
    }
   ],
   "source": [
    "X.shape      #2D-array"
   ]
  },
  {
   "cell_type": "markdown",
   "id": "3af8d1af",
   "metadata": {},
   "source": [
    "There are 70,000 images, and each image has 784 features. "
   ]
  },
  {
   "cell_type": "code",
   "execution_count": 4,
   "id": "373918af",
   "metadata": {},
   "outputs": [
    {
     "data": {
      "text/plain": [
       "(70000,)"
      ]
     },
     "execution_count": 4,
     "metadata": {},
     "output_type": "execute_result"
    }
   ],
   "source": [
    "y.shape      #1D array"
   ]
  },
  {
   "cell_type": "code",
   "execution_count": 5,
   "id": "2a53b3e1",
   "metadata": {
    "scrolled": true
   },
   "outputs": [
    {
     "data": {
      "image/png": "[encoded data removed]",
      "text/plain": [
       "<Figure size 432x288 with 1 Axes>"
      ]
     },
     "metadata": {
      "needs_background": "light"
     },
     "output_type": "display_data"
    }
   ],
   "source": [
    "import matplotlib.pyplot as plt \n",
    "\n",
    "def plot_digit(image_data):\n",
    "    image = image_data.reshape(28, 28)\n",
    "    plt.imshow(image, cmap=\"binary\")\n",
    "    plt.axis(\"off\")\n",
    "    \n",
    "some_digit = X[0]\n",
    "plot_digit(some_digit)\n",
    "plt.show()"
   ]
  },
  {
   "cell_type": "code",
   "execution_count": 6,
   "id": "a87156bd",
   "metadata": {},
   "outputs": [
    {
     "data": {
      "text/plain": [
       "'5'"
      ]
     },
     "execution_count": 6,
     "metadata": {},
     "output_type": "execute_result"
    }
   ],
   "source": [
    "y[0]"
   ]
  },
  {
   "cell_type": "code",
   "execution_count": 7,
   "id": "eb955c75",
   "metadata": {},
   "outputs": [],
   "source": [
    "#from string to integer\n",
    "import numpy as np\n",
    "y = y.astype(np.uint8)"
   ]
  },
  {
   "cell_type": "markdown",
   "id": "df209ddc",
   "metadata": {},
   "source": [
    "### Train Test Split"
   ]
  },
  {
   "cell_type": "code",
   "execution_count": 8,
   "id": "fed6c2cf",
   "metadata": {},
   "outputs": [],
   "source": [
    "X_train, X_test, y_train, y_test = X[:60000], X[60000:], y[:60000], X[60000:]"
   ]
  },
  {
   "cell_type": "markdown",
   "id": "397f58d2",
   "metadata": {},
   "source": [
    "### Training a Binary Classifier\n"
   ]
  },
  {
   "cell_type": "code",
   "execution_count": 9,
   "id": "39d09370",
   "metadata": {},
   "outputs": [],
   "source": [
    "y_train_5 = (y_train == 5)   # True for all 5s\n",
    "y_test_5 = (y_test == 5)"
   ]
  },
  {
   "cell_type": "markdown",
   "id": "85d6329c",
   "metadata": {},
   "source": [
    "#### Stochastic Gradient Descent (SGD) classifier"
   ]
  },
  {
   "cell_type": "code",
   "execution_count": 10,
   "id": "833d80f1",
   "metadata": {},
   "outputs": [
    {
     "data": {
      "text/plain": [
       "SGDClassifier(random_state=42)"
      ]
     },
     "execution_count": 10,
     "metadata": {},
     "output_type": "execute_result"
    }
   ],
   "source": [
    "from sklearn.linear_model import SGDClassifier\n",
    "\n",
    "# model\n",
    "sgd_clf = SGDClassifier(random_state=42)\n",
    "sgd_clf.fit(X_train, y_train_5)"
   ]
  },
  {
   "cell_type": "code",
   "execution_count": 11,
   "id": "c6552a1a",
   "metadata": {},
   "outputs": [
    {
     "data": {
      "text/plain": [
       "array([ True])"
      ]
     },
     "execution_count": 11,
     "metadata": {},
     "output_type": "execute_result"
    }
   ],
   "source": [
    "# using the model to detect number of 5s\n",
    "sgd_clf.predict([some_digit])"
   ]
  },
  {
   "cell_type": "markdown",
   "id": "ea1d1ffc",
   "metadata": {},
   "source": [
    "### Evaluation of Model"
   ]
  },
  {
   "cell_type": "markdown",
   "id": "c728741c",
   "metadata": {},
   "source": [
    "#### Measuring the Accuracy \n"
   ]
  },
  {
   "cell_type": "code",
   "execution_count": 12,
   "id": "a400b470",
   "metadata": {},
   "outputs": [
    {
     "data": {
      "text/plain": [
       "array([0.95035, 0.96035, 0.9604 ])"
      ]
     },
     "execution_count": 12,
     "metadata": {},
     "output_type": "execute_result"
    }
   ],
   "source": [
    "from sklearn.model_selection import cross_val_score\n",
    "cross_val_score(sgd_clf, X_train, y_train_5, cv=3,\n",
    "               scoring=\"accuracy\")"
   ]
  },
  {
   "cell_type": "markdown",
   "id": "cd8efe15",
   "metadata": {},
   "source": [
    "It can be observed the model's accuracy is above 95%"
   ]
  },
  {
   "cell_type": "markdown",
   "id": "0d28d2e4",
   "metadata": {},
   "source": [
    "#### Dummy Classifier"
   ]
  },
  {
   "cell_type": "code",
   "execution_count": 13,
   "id": "86f862bc",
   "metadata": {},
   "outputs": [
    {
     "name": "stdout",
     "output_type": "stream",
     "text": [
      "False\n"
     ]
    }
   ],
   "source": [
    "from sklearn.dummy import DummyClassifier\n",
    "# model\n",
    "dummy_clf = DummyClassifier()\n",
    "dummy_clf.fit(X_train, y_train_5)\n",
    "print(any(dummy_clf.predict([X_train])))   # predicts False, no 5s"
   ]
  },
  {
   "cell_type": "code",
   "execution_count": 14,
   "id": "6ecaf6eb",
   "metadata": {},
   "outputs": [
    {
     "data": {
      "text/plain": [
       "array([0.90965, 0.90965, 0.90965])"
      ]
     },
     "execution_count": 14,
     "metadata": {},
     "output_type": "execute_result"
    }
   ],
   "source": [
    "# model's accuracy\n",
    "cross_val_score(dummy_clf, X_train, y_train_5, cv=3, scoring=\"accuracy\")"
   ]
  },
  {
   "cell_type": "markdown",
   "id": "6407b7cc",
   "metadata": {},
   "source": [
    "### Confusion Matrix"
   ]
  },
  {
   "cell_type": "code",
   "execution_count": 15,
   "id": "e308e237",
   "metadata": {},
   "outputs": [],
   "source": [
    "from sklearn.model_selection import cross_val_predict\n",
    "\n",
    "y_train_pred = cross_val_predict(sgd_clf, X_train, y_train_5, cv=3)"
   ]
  },
  {
   "cell_type": "code",
   "execution_count": 16,
   "id": "8531d15c",
   "metadata": {},
   "outputs": [
    {
     "data": {
      "text/plain": [
       "array([[53892,   687],\n",
       "       [ 1891,  3530]], dtype=int64)"
      ]
     },
     "execution_count": 16,
     "metadata": {},
     "output_type": "execute_result"
    }
   ],
   "source": [
    "# confusion matrix\n",
    "from sklearn.metrics import confusion_matrix\n",
    "cm = confusion_matrix(y_train_5, y_train_pred)\n",
    "cm"
   ]
  },
  {
   "cell_type": "code",
   "execution_count": 17,
   "id": "5bcf6822",
   "metadata": {},
   "outputs": [
    {
     "data": {
      "image/png": "[encoded data removed]",
      "text/plain": [
       "<Figure size 432x288 with 2 Axes>"
      ]
     },
     "metadata": {
      "needs_background": "light"
     },
     "output_type": "display_data"
    }
   ],
   "source": [
    "from sklearn.metrics import ConfusionMatrixDisplay\n",
    "disp = ConfusionMatrixDisplay(confusion_matrix=cm, display_labels=sgd_clf.classes_)\n",
    "disp.plot()\n",
    "plt.show()"
   ]
  },
  {
   "cell_type": "code",
   "execution_count": 18,
   "id": "4f5fd006",
   "metadata": {},
   "outputs": [
    {
     "data": {
      "text/plain": [
       "array([[54579,     0],\n",
       "       [    0,  5421]], dtype=int64)"
      ]
     },
     "execution_count": 18,
     "metadata": {},
     "output_type": "execute_result"
    }
   ],
   "source": [
    "# pretend perfection\n",
    "y_train_perfect_predictions = y_train_5\n",
    "confusion_matrix(y_train_5, y_train_perfect_predictions)"
   ]
  },
  {
   "cell_type": "code",
   "execution_count": 19,
   "id": "90807f1d",
   "metadata": {},
   "outputs": [
    {
     "name": "stdout",
     "output_type": "stream",
     "text": [
      "              precision    recall  f1-score   support\n",
      "\n",
      "       False       0.97      0.99      0.98     54579\n",
      "        True       0.84      0.65      0.73      5421\n",
      "\n",
      "    accuracy                           0.96     60000\n",
      "   macro avg       0.90      0.82      0.85     60000\n",
      "weighted avg       0.95      0.96      0.95     60000\n",
      "\n"
     ]
    }
   ],
   "source": [
    "# report of the model\n",
    "from sklearn.metrics import classification_report\n",
    "print(classification_report(y_train_5, y_train_pred))"
   ]
  },
  {
   "cell_type": "markdown",
   "id": "d452ab72",
   "metadata": {},
   "source": [
    "from the report, if when it claims an image represent 5, it is 84% correct and it detects it 65% of the time."
   ]
  },
  {
   "cell_type": "markdown",
   "id": "b9366f9d",
   "metadata": {},
   "source": [
    "### Precision and Recall Tradeoffs"
   ]
  },
  {
   "cell_type": "code",
   "execution_count": 20,
   "id": "edd9d7d8",
   "metadata": {},
   "outputs": [
    {
     "data": {
      "text/plain": [
       "array([2164.22030239])"
      ]
     },
     "execution_count": 20,
     "metadata": {},
     "output_type": "execute_result"
    }
   ],
   "source": [
    "# returns a score of each instance\n",
    "y_scores = sgd_clf.decision_function([some_digit]) \n",
    "y_scores"
   ]
  },
  {
   "cell_type": "code",
   "execution_count": 21,
   "id": "436bc731",
   "metadata": {},
   "outputs": [
    {
     "data": {
      "text/plain": [
       "array([ True])"
      ]
     },
     "execution_count": 21,
     "metadata": {},
     "output_type": "execute_result"
    }
   ],
   "source": [
    "threshold = 0   # set threshold\n",
    "y_some_digit_pred = (y_scores > threshold)   # prediction \n",
    "y_some_digit_pred"
   ]
  },
  {
   "cell_type": "markdown",
   "id": "95a08582",
   "metadata": {},
   "source": [
    "it can be observed that threshold is 0"
   ]
  },
  {
   "cell_type": "code",
   "execution_count": 22,
   "id": "99f5fa8e",
   "metadata": {},
   "outputs": [
    {
     "data": {
      "text/plain": [
       "array([False])"
      ]
     },
     "execution_count": 22,
     "metadata": {},
     "output_type": "execute_result"
    }
   ],
   "source": [
    "threshold = 3000   #set thresold\n",
    "y_some_digit_pred = (y_scores > threshold)\n",
    "y_some_digit_pred"
   ]
  },
  {
   "cell_type": "markdown",
   "id": "d39d899c",
   "metadata": {},
   "source": [
    "Raising threshold decreases the recall"
   ]
  },
  {
   "cell_type": "markdown",
   "id": "f163cb0a",
   "metadata": {},
   "source": [
    "####  Deciding on what threshold to use "
   ]
  },
  {
   "cell_type": "code",
   "execution_count": 23,
   "id": "2017c397",
   "metadata": {},
   "outputs": [],
   "source": [
    "# scores of predictions\n",
    "y_scores = cross_val_predict(sgd_clf, X_train, y_train_5, cv=3, method=\"decision_function\")"
   ]
  },
  {
   "cell_type": "code",
   "execution_count": 24,
   "id": "0cecb6aa",
   "metadata": {},
   "outputs": [],
   "source": [
    "from sklearn.metrics import precision_recall_curve\n",
    "\n",
    "precisions, recalls, thresholds = precision_recall_curve(y_train_5, y_scores)"
   ]
  },
  {
   "cell_type": "code",
   "execution_count": 25,
   "id": "cd4f87e9",
   "metadata": {},
   "outputs": [
    {
     "data": {
      "image/png": "[encoded data removed]",
      "text/plain": [
       "<Figure size 432x288 with 1 Axes>"
      ]
     },
     "metadata": {
      "needs_background": "light"
     },
     "output_type": "display_data"
    }
   ],
   "source": [
    "import matplotlib.pyplot as plt\n",
    "plt.plot(thresholds, precisions[:-1], \"b--\", label=\"Precision\", linewidth=2)\n",
    "plt.plot(thresholds, recalls[:-1], \"g-\", label=\"Recalls\", linewidth=2)\n",
    "plt.vlines(threshold, 0, 1.0, \"k\", \"dotted\", label=\"threshold\")\n",
    "plt.grid(True, linestyle=\"--\")\n",
    "plt.legend()\n",
    "plt.show()"
   ]
  },
  {
   "cell_type": "markdown",
   "id": "35fcf85c",
   "metadata": {},
   "source": [
    "#### Selecting Good Precision Tradeoff 2"
   ]
  },
  {
   "cell_type": "code",
   "execution_count": 26,
   "id": "c156473c",
   "metadata": {},
   "outputs": [
    {
     "data": {
      "image/png": "[encoded data removed]",
      "text/plain": [
       "<Figure size 432x288 with 1 Axes>"
      ]
     },
     "metadata": {
      "needs_background": "light"
     },
     "output_type": "display_data"
    }
   ],
   "source": [
    "%matplotlib inline\n",
    "plt.plot(recalls, precisions, \n",
    "         linewidth=2, label=\"Precision/Recall Curve\")\n",
    "plt.grid(True, linestyle=\"--\")\n",
    "plt.tick_params(labelsize=10)\n",
    "plt.xlabel(\"Recall\")\n",
    "plt.ylabel(\"Precision\")\n",
    "plt.legend()\n",
    "plt.show()"
   ]
  },
  {
   "cell_type": "code",
   "execution_count": 27,
   "id": "ddcad3fe",
   "metadata": {},
   "outputs": [
    {
     "data": {
      "text/plain": [
       "3370.0194991439557"
      ]
     },
     "execution_count": 27,
     "metadata": {},
     "output_type": "execute_result"
    }
   ],
   "source": [
    "# 90% Precision\n",
    "idx_for_90_precision = (precisions >= 0.9).argmax() #returns max first index\n",
    "threshold_for_90_precision = thresholds[idx_for_90_precision]\n",
    "threshold_for_90_precision"
   ]
  },
  {
   "cell_type": "code",
   "execution_count": 28,
   "id": "b8eb1522",
   "metadata": {},
   "outputs": [],
   "source": [
    "# prediction\n",
    "y_train_pred_90 = (y_scores >= threshold_for_90_precision)"
   ]
  },
  {
   "cell_type": "code",
   "execution_count": 29,
   "id": "542579fd",
   "metadata": {},
   "outputs": [
    {
     "name": "stdout",
     "output_type": "stream",
     "text": [
      "              precision    recall  f1-score   support\n",
      "\n",
      "       False       0.95      0.99      0.97     54579\n",
      "        True       0.90      0.48      0.63      5421\n",
      "\n",
      "    accuracy                           0.95     60000\n",
      "   macro avg       0.93      0.74      0.80     60000\n",
      "weighted avg       0.95      0.95      0.94     60000\n",
      "\n"
     ]
    }
   ],
   "source": [
    "# check the metrics\n",
    "print(classification_report(y_train_5, y_train_pred_90))"
   ]
  },
  {
   "cell_type": "markdown",
   "id": "14790055",
   "metadata": {},
   "source": [
    "it can be observed that the precision is 90% while the recall 48%. This seems to be a good tradeoff for the model"
   ]
  },
  {
   "cell_type": "markdown",
   "id": "7030e4b9",
   "metadata": {},
   "source": [
    "#### The ROC Curve"
   ]
  },
  {
   "cell_type": "code",
   "execution_count": 30,
   "id": "86ef354d",
   "metadata": {},
   "outputs": [],
   "source": [
    "from sklearn.metrics import roc_curve\n",
    "fpr, tpr, thresholds = roc_curve(y_train_5, y_scores)"
   ]
  },
  {
   "cell_type": "code",
   "execution_count": 31,
   "id": "b8788261",
   "metadata": {},
   "outputs": [],
   "source": [
    "idx_for_threshold_at_90 = (thresholds <=\n",
    "                           threshold_for_90_precision).argmax()\n",
    "tpr_90, fpr_90 = tpr[idx_for_threshold_at_90], fpr[idx_for_threshold_at_90]"
   ]
  },
  {
   "cell_type": "code",
   "execution_count": 32,
   "id": "c0c894bf",
   "metadata": {
    "scrolled": true
   },
   "outputs": [
    {
     "data": {
      "image/png": "[encoded data removed]",
      "text/plain": [
       "<Figure size 432x288 with 1 Axes>"
      ]
     },
     "metadata": {
      "needs_background": "light"
     },
     "output_type": "display_data"
    }
   ],
   "source": [
    "# plot roc curve\n",
    "plt.plot(fpr, tpr, linewidth=2, label=\"ROC Curve\")\n",
    "#dummy classifier\n",
    "plt.plot([0, 1], [0, 1], \"k:\", \n",
    "         label=\"Random classifier's ROC curve\")\n",
    "plt.plot([fpr_90], [tpr_90], \"ko\", label=\"Threshold for 90% precision\")\n",
    "plt.legend()\n",
    "plt.ylabel(\"True Positive Rate\")\n",
    "plt.xlabel(\"False Positive Rate\")\n",
    "plt.show()"
   ]
  },
  {
   "cell_type": "markdown",
   "id": "8d038b25",
   "metadata": {},
   "source": [
    "The higher the recall (TPR), the more false\n",
    "positives (FPR) the classifier produces"
   ]
  },
  {
   "cell_type": "code",
   "execution_count": 33,
   "id": "d5c4f46d",
   "metadata": {},
   "outputs": [
    {
     "data": {
      "text/plain": [
       "0.9604938554008616"
      ]
     },
     "execution_count": 33,
     "metadata": {},
     "output_type": "execute_result"
    }
   ],
   "source": [
    "from sklearn.metrics import auc, roc_auc_score\n",
    "roc_auc_score(y_train_5, y_scores)"
   ]
  },
  {
   "cell_type": "markdown",
   "id": "1eb8a17f",
   "metadata": {},
   "source": [
    "96% accuracy on the majority class which is negative. So this metric is not good for the model."
   ]
  },
  {
   "cell_type": "markdown",
   "id": "e0acc7e2",
   "metadata": {},
   "source": [
    "#### Random Forest Classifier"
   ]
  },
  {
   "cell_type": "code",
   "execution_count": 34,
   "id": "4e4092dd",
   "metadata": {},
   "outputs": [],
   "source": [
    "from sklearn.ensemble import RandomForestClassifier\n",
    "#initialize model\n",
    "forest_clf = RandomForestClassifier(random_state=42)\n",
    "y_probas_forest = cross_val_predict(forest_clf, \n",
    "                                    X_train, y_train_5, cv=3,\n",
    "                                    method=\"predict_proba\")"
   ]
  },
  {
   "cell_type": "code",
   "execution_count": 35,
   "id": "a1953c54",
   "metadata": {},
   "outputs": [
    {
     "data": {
      "text/plain": [
       "array([[0.11, 0.89],\n",
       "       [0.99, 0.01]])"
      ]
     },
     "execution_count": 35,
     "metadata": {},
     "output_type": "execute_result"
    }
   ],
   "source": [
    "y_probas_forest[:2] # class probs for first two images "
   ]
  },
  {
   "cell_type": "code",
   "execution_count": 36,
   "id": "931c1542",
   "metadata": {},
   "outputs": [
    {
     "data": {
      "text/plain": [
       "array([0.89, 0.01, 0.04, ..., 0.98, 0.08, 0.06])"
      ]
     },
     "execution_count": 36,
     "metadata": {},
     "output_type": "execute_result"
    }
   ],
   "source": [
    "y_scores_forest = y_probas_forest[:, 1]\n",
    "y_scores_forest"
   ]
  },
  {
   "cell_type": "code",
   "execution_count": 37,
   "id": "67416730",
   "metadata": {},
   "outputs": [
    {
     "data": {
      "image/png": "[encoded data removed]",
      "text/plain": [
       "<Figure size 432x288 with 1 Axes>"
      ]
     },
     "metadata": {
      "needs_background": "light"
     },
     "output_type": "display_data"
    }
   ],
   "source": [
    "precisions_forest, recalls_forest, thresholds_forest = precision_recall_curve(y_train_5,\n",
    "                                                                              y_scores_forest)\n",
    " \n",
    "plt.plot(recalls_forest, precisions_forest, \"b-\",linewidth=2, \n",
    "         label=\"Random Forest\" )\n",
    "plt.plot(recalls, precisions, \"--\", linewidth=2, label=\"SGD\")\n",
    "plt.legend()\n",
    "plt.ylabel(\"Precision\")\n",
    "plt.xlabel(\"Recall\")\n",
    "plt.show()"
   ]
  },
  {
   "cell_type": "code",
   "execution_count": 38,
   "id": "ecee07bb",
   "metadata": {},
   "outputs": [
    {
     "data": {
      "text/plain": [
       "0.9274509803921569"
      ]
     },
     "execution_count": 38,
     "metadata": {},
     "output_type": "execute_result"
    }
   ],
   "source": [
    "# positive proba\n",
    "y_train_pred_forest = y_probas_forest[:, 1] >= 0.5 \n",
    "\n",
    "from sklearn.metrics import f1_score\n",
    "f1_score(y_train_5, y_train_pred_forest)"
   ]
  },
  {
   "cell_type": "code",
   "execution_count": 39,
   "id": "7b488aa5",
   "metadata": {},
   "outputs": [
    {
     "data": {
      "text/plain": [
       "0.9983436731328145"
      ]
     },
     "execution_count": 39,
     "metadata": {},
     "output_type": "execute_result"
    }
   ],
   "source": [
    "roc_auc_score(y_train_5, y_scores_forest)"
   ]
  },
  {
   "cell_type": "code",
   "execution_count": 40,
   "id": "8869765c",
   "metadata": {},
   "outputs": [
    {
     "name": "stdout",
     "output_type": "stream",
     "text": [
      "              precision    recall  f1-score   support\n",
      "\n",
      "       False       0.99      1.00      0.99     54579\n",
      "        True       0.99      0.87      0.93      5421\n",
      "\n",
      "    accuracy                           0.99     60000\n",
      "   macro avg       0.99      0.94      0.96     60000\n",
      "weighted avg       0.99      0.99      0.99     60000\n",
      "\n"
     ]
    }
   ],
   "source": [
    "print(classification_report(y_train_5, y_train_pred_forest))"
   ]
  },
  {
   "cell_type": "markdown",
   "id": "2e929fcf",
   "metadata": {},
   "source": [
    "A preocision of 99% and with a recall of 87% which is actually good for the model."
   ]
  },
  {
   "cell_type": "markdown",
   "id": "59d326c6",
   "metadata": {},
   "source": [
    "### MULTICLASS CLASSIFICATION"
   ]
  },
  {
   "cell_type": "markdown",
   "id": "c5a11a5e",
   "metadata": {},
   "source": [
    "#### Support Vector Machine Classifiers"
   ]
  },
  {
   "cell_type": "code",
   "execution_count": 41,
   "id": "fb849d1f",
   "metadata": {},
   "outputs": [
    {
     "data": {
      "text/plain": [
       "SVC(random_state=42)"
      ]
     },
     "execution_count": 41,
     "metadata": {},
     "output_type": "execute_result"
    }
   ],
   "source": [
    "from sklearn.svm import SVC\n",
    "svm_clf = SVC(random_state=42)\n",
    "# fit a few portion of data\n",
    "svm_clf.fit(X_train[:2000], y_train[:2000]) # y_train, != y_train_5 "
   ]
  },
  {
   "cell_type": "code",
   "execution_count": 42,
   "id": "62f2524a",
   "metadata": {},
   "outputs": [
    {
     "data": {
      "text/plain": [
       "array([5], dtype=uint8)"
      ]
     },
     "execution_count": 42,
     "metadata": {},
     "output_type": "execute_result"
    }
   ],
   "source": [
    "svm_clf.predict([some_digit])"
   ]
  },
  {
   "cell_type": "code",
   "execution_count": 43,
   "id": "5f92c12f",
   "metadata": {},
   "outputs": [
    {
     "data": {
      "text/plain": [
       "array([[ 3.79,  0.73,  6.06,  8.3 , -0.29,  9.3 ,  1.75,  2.77,  7.21,\n",
       "         4.82]])"
      ]
     },
     "execution_count": 43,
     "metadata": {},
     "output_type": "execute_result"
    }
   ],
   "source": [
    "# decision function for the scores\n",
    "some_digit_scores = svm_clf.decision_function([some_digit])\n",
    "some_digit_scores.round(2)"
   ]
  },
  {
   "cell_type": "markdown",
   "id": "eb4d830b",
   "metadata": {},
   "source": [
    "highest score is 9.3"
   ]
  },
  {
   "cell_type": "code",
   "execution_count": 44,
   "id": "41f9312f",
   "metadata": {},
   "outputs": [
    {
     "data": {
      "text/plain": [
       "5"
      ]
     },
     "execution_count": 44,
     "metadata": {},
     "output_type": "execute_result"
    }
   ],
   "source": [
    "# index of the predicted score\n",
    "class_id = some_digit_scores.argmax()\n",
    "class_id"
   ]
  },
  {
   "cell_type": "code",
   "execution_count": 45,
   "id": "d3d7b973",
   "metadata": {},
   "outputs": [
    {
     "data": {
      "text/plain": [
       "array([0, 1, 2, 3, 4, 5, 6, 7, 8, 9], dtype=uint8)"
      ]
     },
     "execution_count": 45,
     "metadata": {},
     "output_type": "execute_result"
    }
   ],
   "source": [
    "svm_clf.classes_"
   ]
  },
  {
   "cell_type": "code",
   "execution_count": 46,
   "id": "1a911084",
   "metadata": {},
   "outputs": [
    {
     "data": {
      "text/plain": [
       "5"
      ]
     },
     "execution_count": 46,
     "metadata": {},
     "output_type": "execute_result"
    }
   ],
   "source": [
    "# actual value of the most predicted class\n",
    "svm_clf.classes_[class_id]"
   ]
  },
  {
   "cell_type": "markdown",
   "id": "c4e726f8",
   "metadata": {},
   "source": [
    "#### One Vs Rest Classifier"
   ]
  },
  {
   "cell_type": "code",
   "execution_count": 47,
   "id": "099b77c8",
   "metadata": {},
   "outputs": [
    {
     "data": {
      "text/plain": [
       "OneVsRestClassifier(estimator=SVC(random_state=42))"
      ]
     },
     "execution_count": 47,
     "metadata": {},
     "output_type": "execute_result"
    }
   ],
   "source": [
    "from sklearn.multiclass import OneVsRestClassifier\n",
    "\n",
    "ovr_clf = OneVsRestClassifier(SVC(random_state=42))\n",
    "ovr_clf.fit(X_train[:2000], y_train[:2000])"
   ]
  },
  {
   "cell_type": "code",
   "execution_count": 48,
   "id": "21f71a7c",
   "metadata": {},
   "outputs": [
    {
     "data": {
      "text/plain": [
       "array([5], dtype=uint8)"
      ]
     },
     "execution_count": 48,
     "metadata": {},
     "output_type": "execute_result"
    }
   ],
   "source": [
    "ovr_clf.predict([some_digit])  # predict"
   ]
  },
  {
   "cell_type": "code",
   "execution_count": 49,
   "id": "d5a8251d",
   "metadata": {},
   "outputs": [
    {
     "data": {
      "text/plain": [
       "10"
      ]
     },
     "execution_count": 49,
     "metadata": {},
     "output_type": "execute_result"
    }
   ],
   "source": [
    "len(ovr_clf.estimators_)"
   ]
  },
  {
   "cell_type": "markdown",
   "id": "776d1b2f",
   "metadata": {},
   "source": [
    "#### Trying the SGDClassifier"
   ]
  },
  {
   "cell_type": "code",
   "execution_count": 50,
   "id": "bf715be7",
   "metadata": {},
   "outputs": [
    {
     "data": {
      "text/plain": [
       "array([3], dtype=uint8)"
      ]
     },
     "execution_count": 50,
     "metadata": {},
     "output_type": "execute_result"
    }
   ],
   "source": [
    "sgd_clf = SGDClassifier(random_state=42)\n",
    "sgd_clf.fit(X_train, y_train)\n",
    "sgd_clf.predict([some_digit])"
   ]
  },
  {
   "cell_type": "markdown",
   "id": "9230eb32",
   "metadata": {},
   "source": [
    "model predicted wrongly"
   ]
  },
  {
   "cell_type": "code",
   "execution_count": 51,
   "id": "1423e135",
   "metadata": {},
   "outputs": [
    {
     "data": {
      "text/plain": [
       "array([[-31893.03095419, -34419.69069632,  -9530.63950739,\n",
       "          1823.73154031, -22320.14822878,  -1385.80478895,\n",
       "        -26188.91070951, -16147.51323997,  -4604.35491274,\n",
       "        -12050.767298  ]])"
      ]
     },
     "execution_count": 51,
     "metadata": {},
     "output_type": "execute_result"
    }
   ],
   "source": [
    "sgd_clf.decision_function([some_digit])"
   ]
  },
  {
   "cell_type": "markdown",
   "id": "46c126f6",
   "metadata": {},
   "source": [
    "all the scores were negative expect 3. Since there were 10 classes the model trained 10 instead of 45. "
   ]
  },
  {
   "cell_type": "code",
   "execution_count": 52,
   "id": "6ae9a766",
   "metadata": {},
   "outputs": [
    {
     "data": {
      "text/plain": [
       "array([0.87365, 0.85835, 0.8689 ])"
      ]
     },
     "execution_count": 52,
     "metadata": {},
     "output_type": "execute_result"
    }
   ],
   "source": [
    "# metrics \n",
    "cross_val_score(sgd_clf, X_train, y_train, cv=3, scoring=\"accuracy\")"
   ]
  },
  {
   "cell_type": "code",
   "execution_count": 53,
   "id": "97694892",
   "metadata": {},
   "outputs": [],
   "source": [
    "# scaling the inputs and leaving the outputs\n",
    "from sklearn.preprocessing import StandardScaler\n",
    "\n",
    "scaler = StandardScaler()\n",
    "X_train_scaled = scaler.fit_transform(X_train.astype(\"float64\"))"
   ]
  },
  {
   "cell_type": "code",
   "execution_count": 54,
   "id": "5777a7b1",
   "metadata": {},
   "outputs": [
    {
     "data": {
      "text/plain": [
       "array([0.8983, 0.891 , 0.9018])"
      ]
     },
     "execution_count": 54,
     "metadata": {},
     "output_type": "execute_result"
    }
   ],
   "source": [
    "cross_val_score(sgd_clf, X_train_scaled, y_train, cv=3, \n",
    "               scoring=\"accuracy\")"
   ]
  },
  {
   "cell_type": "markdown",
   "id": "8f076cfc",
   "metadata": {},
   "source": [
    "it can be seen that theaccuracy has increased after scaling the input data"
   ]
  },
  {
   "cell_type": "markdown",
   "id": "e2f27165",
   "metadata": {},
   "source": [
    "### Error Analysis"
   ]
  },
  {
   "cell_type": "code",
   "execution_count": 55,
   "id": "5173c938",
   "metadata": {},
   "outputs": [
    {
     "data": {
      "image/png": "[encoded data removed]",
      "text/plain": [
       "<Figure size 432x288 with 2 Axes>"
      ]
     },
     "metadata": {
      "needs_background": "light"
     },
     "output_type": "display_data"
    }
   ],
   "source": [
    "y_train_pred = cross_val_predict(sgd_clf, X_train_scaled, y_train, cv=3)  # cross val pred.\n",
    "# Confusion matrix\n",
    "ConfusionMatrixDisplay.from_predictions(y_train, y_train_pred)\n",
    "plt.show()  #display plot\n"
   ]
  },
  {
   "cell_type": "code",
   "execution_count": 56,
   "id": "bb286f09",
   "metadata": {},
   "outputs": [
    {
     "data": {
      "image/png": "[encoded data removed]",
      "text/plain": [
       "<Figure size 432x288 with 2 Axes>"
      ]
     },
     "metadata": {
      "needs_background": "light"
     },
     "output_type": "display_data"
    }
   ],
   "source": [
    "# converts the valujes to percentages\n",
    "ConfusionMatrixDisplay.from_predictions(y_train, y_train_pred, normalize=\"true\", \n",
    "                                       values_format=\".0%\")\n",
    "plt.show()  # plot"
   ]
  },
  {
   "cell_type": "code",
   "execution_count": 57,
   "id": "d12e8c8f",
   "metadata": {
    "scrolled": false
   },
   "outputs": [
    {
     "data": {
      "image/png": "[encoded data removed]",
      "text/plain": [
       "<Figure size 432x288 with 2 Axes>"
      ]
     },
     "metadata": {
      "needs_background": "light"
     },
     "output_type": "display_data"
    }
   ],
   "source": [
    "# view the errors\n",
    "sample_weight = (y_train != y_train_pred)  # setting the weight\n",
    "ConfusionMatrixDisplay.from_predictions(y_train, y_train_pred, normalize=\"true\", \n",
    "                                       sample_weight=sample_weight, values_format=\".0%\")\n",
    "plt.show()  # plot"
   ]
  },
  {
   "cell_type": "markdown",
   "id": "cfcf0291",
   "metadata": {},
   "source": [
    "The 36% in row #7, column #9 means that 36% of the\n",
    "errors the model made on images of 7s were misclassifications as 9s"
   ]
  },
  {
   "cell_type": "code",
   "execution_count": 58,
   "id": "43c42457",
   "metadata": {},
   "outputs": [
    {
     "data": {
      "image/png": "[encoded data removed]",
      "text/plain": [
       "<Figure size 432x288 with 2 Axes>"
      ]
     },
     "metadata": {
      "needs_background": "light"
     },
     "output_type": "display_data"
    }
   ],
   "source": [
    "# view the errors\n",
    "sample_weight = (y_train != y_train_pred)  # setting the weight\n",
    "ConfusionMatrixDisplay.from_predictions(y_train, y_train_pred, normalize=\"pred\", \n",
    "                                       sample_weight=sample_weight, values_format=\".0%\")\n",
    "plt.show()  # plot"
   ]
  },
  {
   "cell_type": "markdown",
   "id": "b20e4d54",
   "metadata": {},
   "source": [
    "It can be see that 56% of misclassified 7s are\n",
    "actually 9s"
   ]
  },
  {
   "cell_type": "markdown",
   "id": "9e930cfd",
   "metadata": {},
   "source": [
    "### Multilabel Classification"
   ]
  },
  {
   "cell_type": "markdown",
   "id": "d5034165",
   "metadata": {},
   "source": [
    "A classification that outputs multiple binary tags"
   ]
  },
  {
   "cell_type": "markdown",
   "id": "dda92b4d",
   "metadata": {},
   "source": [
    "#### KNeighbors"
   ]
  },
  {
   "cell_type": "code",
   "execution_count": 63,
   "id": "7634851b",
   "metadata": {},
   "outputs": [
    {
     "data": {
      "text/plain": [
       "array([[False,  True]])"
      ]
     },
     "execution_count": 63,
     "metadata": {},
     "output_type": "execute_result"
    }
   ],
   "source": [
    "import numpy as np\n",
    "from sklearn.neighbors import KNeighborsClassifier\n",
    "\n",
    "y_train_large = (y_train >= 7)\n",
    "y_train_odd = (y_train.astype('int8') % 2 == 1)\n",
    "y_multilabel = np.c_[y_train_large, y_train_odd]   # adds another dimension to the shape\n",
    "\n",
    "# model\n",
    "knn_clf = KNeighborsClassifier()\n",
    "knn_clf.fit(X_train, y_multilabel)\n",
    "\n",
    "# predict\n",
    "knn_clf.predict([some_digit])"
   ]
  },
  {
   "cell_type": "markdown",
   "id": "117feee2",
   "metadata": {},
   "source": [
    "some_digit = 5, therefore False for even, True for odd"
   ]
  },
  {
   "cell_type": "code",
   "execution_count": 66,
   "id": "90171940",
   "metadata": {},
   "outputs": [
    {
     "data": {
      "text/plain": [
       "0.976410265560605"
      ]
     },
     "execution_count": 66,
     "metadata": {},
     "output_type": "execute_result"
    }
   ],
   "source": [
    "# Selecting the metrics\n",
    "y_train_knn_pred = cross_val_predict(knn_clf, X_train, y_multilabel, cv=3)\n",
    "f1_score(y_multilabel, y_train_knn_pred, average=\"macro\")"
   ]
  },
  {
   "cell_type": "markdown",
   "id": "51afb8eb",
   "metadata": {},
   "source": [
    "Assumes all the labels are equally important, therefore equal weights is given to each class"
   ]
  },
  {
   "cell_type": "code",
   "execution_count": 67,
   "id": "41f98f64",
   "metadata": {},
   "outputs": [
    {
     "data": {
      "text/plain": [
       "0.9778357403921755"
      ]
     },
     "execution_count": 67,
     "metadata": {},
     "output_type": "execute_result"
    }
   ],
   "source": [
    "f1_score(y_multilabel, y_train_knn_pred, average=\"weighted\")"
   ]
  },
  {
   "cell_type": "markdown",
   "id": "0f6d2701",
   "metadata": {},
   "source": [
    "`average=\"weighted\"`Gives weight based on the number of instances with the target variable"
   ]
  },
  {
   "cell_type": "markdown",
   "id": "54172ee9",
   "metadata": {},
   "source": [
    "#### ClassifierChain"
   ]
  },
  {
   "cell_type": "markdown",
   "id": "2b7147b7",
   "metadata": {},
   "source": [
    "Classifier chains are a way of combining a number of binary classifiers into a single multi-label model that is capable of exploiting correlations among targets."
   ]
  },
  {
   "cell_type": "code",
   "execution_count": 73,
   "id": "07eccdc0",
   "metadata": {},
   "outputs": [
    {
     "data": {
      "text/plain": [
       "array([[0., 1.]])"
      ]
     },
     "execution_count": 73,
     "metadata": {},
     "output_type": "execute_result"
    }
   ],
   "source": [
    "from sklearn.multioutput import ClassifierChain\n",
    "\n",
    "# model\n",
    "chain_clf = ClassifierChain(SVC(), cv=3, random_state=42)\n",
    "chain_clf.fit(X_train[:2000], y_multilabel[:2000])\n",
    "\n",
    "chain_clf.predict([some_digit])"
   ]
  },
  {
   "cell_type": "markdown",
   "id": "2ea5da31",
   "metadata": {},
   "source": [
    "### Multioutput Classification  "
   ]
  },
  {
   "cell_type": "markdown",
   "id": "f9808cbe",
   "metadata": {},
   "source": [
    "It is a generalization of multilabel classification where each label can be multiclass (i.e., it can have more than two possible values)."
   ]
  },
  {
   "cell_type": "code",
   "execution_count": 75,
   "id": "35afc323",
   "metadata": {},
   "outputs": [],
   "source": [
    "# generating a noise data\n",
    "np.random.seed(42) # to make this code example reproducible\n",
    "noise = np.random.randint(0, 100, (len(X_train), 784))\n",
    "X_train_mod = X_train + noise\n",
    "\n",
    "noise = np.random.randint(0, 100, (len(X_test), 784))\n",
    "X_test_mod = X_test + noise\n",
    "\n",
    "y_train_mod = X_train\n",
    "y_test_mod = X_test"
   ]
  },
  {
   "cell_type": "code",
   "execution_count": 76,
   "id": "073a4557",
   "metadata": {},
   "outputs": [
    {
     "data": {
      "image/png": "[encoded data removed]",
      "text/plain": [
       "<Figure size 432x288 with 1 Axes>"
      ]
     },
     "metadata": {
      "needs_background": "light"
     },
     "output_type": "display_data"
    }
   ],
   "source": [
    "# a classifier that cleans it\n",
    "knn_clf = KNeighborsClassifier()\n",
    "knn_clf.fit(X_train_mod, y_train_mod)\n",
    "\n",
    "clean_digit = knn_clf.predict([X_test_mod[0]])\n",
    "plot_digit(clean_digit)\n",
    "plt.show()"
   ]
  },
  {
   "cell_type": "code",
   "execution_count": null,
   "id": "43e1e1af",
   "metadata": {},
   "outputs": [],
   "source": []
  }
 ],
 "metadata": {
  "kernelspec": {
   "display_name": "Python 3 (ipykernel)",
   "language": "python",
   "name": "python3"
  },
  "language_info": {
   "codemirror_mode": {
    "name": "ipython",
    "version": 3
   },
   "file_extension": ".py",
   "mimetype": "text/x-python",
   "name": "python",
   "nbconvert_exporter": "python",
   "pygments_lexer": "ipython3",
   "version": "3.9.12"
  }
 },
 "nbformat": 4,
 "nbformat_minor": 5
}
