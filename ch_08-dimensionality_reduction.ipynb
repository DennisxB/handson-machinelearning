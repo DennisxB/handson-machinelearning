{
 "cells": [
  {
   "cell_type": "markdown",
   "id": "14942cb2",
   "metadata": {},
   "source": [
    "# Chapter 8. Dimensionality Reduction"
   ]
  },
  {
   "cell_type": "markdown",
   "id": "86cc0c59",
   "metadata": {},
   "source": [
    "## PCA"
   ]
  },
  {
   "cell_type": "markdown",
   "id": "500fd1c4",
   "metadata": {},
   "source": [
    "Using Numpy's svd()"
   ]
  },
  {
   "cell_type": "code",
   "execution_count": 1,
   "id": "60ec569e",
   "metadata": {},
   "outputs": [],
   "source": [
    "# extra code to create a 3D dataset\n",
    "\n",
    "import numpy as np\n",
    "from scipy.spatial.transform import Rotation\n",
    "\n",
    "m = 60\n",
    "X = np.zeros((m, 3))  # initialize 3D dataset\n",
    "np.random.seed(42)\n",
    "angles = (np.random.rand(m) ** 3 + 0.5) * 2 * np.pi  # uneven distribution\n",
    "X[:, 0], X[:, 1] = np.cos(angles), np.sin(angles) * 0.5  # oval\n",
    "X += 0.28 * np.random.randn(m, 3)  # add more noise\n",
    "X = Rotation.from_rotvec([np.pi / 29, -np.pi / 20, np.pi / 4]).apply(X)\n",
    "X += [0.2, 0, 0.2]  # shift a bit"
   ]
  },
  {
   "cell_type": "code",
   "execution_count": 2,
   "id": "1314a857",
   "metadata": {},
   "outputs": [],
   "source": [
    "import numpy as np\n",
    "\n",
    "X_centered = X - X.mean(axis=0)\n",
    "U, s, Vt = np.linalg.svd(X_centered)\n",
    "c1 = Vt[0]\n",
    "c2 = Vt[1]"
   ]
  },
  {
   "cell_type": "code",
   "execution_count": 3,
   "id": "83d72e7a",
   "metadata": {},
   "outputs": [],
   "source": [
    "W2 = Vt[:2].T\n",
    "X2D = X_centered @ W2"
   ]
  },
  {
   "cell_type": "markdown",
   "id": "47738a28",
   "metadata": {},
   "source": [
    "**Using Scikit-learn's PCA class**"
   ]
  },
  {
   "cell_type": "code",
   "execution_count": 4,
   "id": "fb33a539",
   "metadata": {},
   "outputs": [],
   "source": [
    "from sklearn.decomposition import PCA\n",
    "pca = PCA(n_components=2)\n",
    "X2D = pca.fit_transform(X)"
   ]
  },
  {
   "cell_type": "code",
   "execution_count": 5,
   "id": "15b8eb21",
   "metadata": {
    "scrolled": true
   },
   "outputs": [
    {
     "data": {
      "text/plain": [
       "array([[ 0.67857588,  0.70073508,  0.22023881],\n",
       "       [ 0.72817329, -0.6811147 , -0.07646185]])"
      ]
     },
     "execution_count": 5,
     "metadata": {},
     "output_type": "execute_result"
    }
   ],
   "source": [
    "pca.components_"
   ]
  },
  {
   "cell_type": "code",
   "execution_count": 6,
   "id": "05e76259",
   "metadata": {},
   "outputs": [
    {
     "data": {
      "text/plain": [
       "array([0.7578477 , 0.15186921])"
      ]
     },
     "execution_count": 6,
     "metadata": {},
     "output_type": "execute_result"
    }
   ],
   "source": [
    "pca.explained_variance_ratio_"
   ]
  },
  {
   "cell_type": "markdown",
   "id": "b812927c",
   "metadata": {},
   "source": [
    "the first PC had 76% variance and the 2nd, 15%. Meaning the 3rd PC had little information with 9% "
   ]
  },
  {
   "cell_type": "markdown",
   "id": "1e365637",
   "metadata": {},
   "source": [
    "### Choosing the Right Number of Dimensions"
   ]
  },
  {
   "cell_type": "code",
   "execution_count": 7,
   "id": "e2944b08",
   "metadata": {},
   "outputs": [],
   "source": [
    "from sklearn.datasets import fetch_openml\n",
    "mnist = fetch_openml('mnist_784', as_frame=False)\n",
    "\n",
    "# splitting the data\n",
    "X_train, y_train = mnist.data[:60_000], mnist.target[:60_000]\n",
    "X_test, y_test = mnist.data[60_000:], mnist.target[60_000:]"
   ]
  },
  {
   "cell_type": "code",
   "execution_count": 8,
   "id": "bd83ccdf",
   "metadata": {},
   "outputs": [],
   "source": [
    "pca = PCA(n_components=0.95)\n",
    "X_reduced = pca.fit_transform(X_train)"
   ]
  },
  {
   "cell_type": "code",
   "execution_count": 9,
   "id": "8b379810",
   "metadata": {},
   "outputs": [
    {
     "data": {
      "text/plain": [
       "154"
      ]
     },
     "execution_count": 9,
     "metadata": {},
     "output_type": "execute_result"
    }
   ],
   "source": [
    "pca.n_components_"
   ]
  },
  {
   "cell_type": "markdown",
   "id": "31fbf5ef",
   "metadata": {},
   "source": [
    "**Using dimensionality reduction as a preprocessing step for a supervised learning task (e.g., classification):**"
   ]
  },
  {
   "cell_type": "code",
   "execution_count": 10,
   "id": "506a026b",
   "metadata": {},
   "outputs": [],
   "source": [
    "from sklearn.model_selection import RandomizedSearchCV\n",
    "from sklearn.pipeline import make_pipeline\n",
    "from sklearn.ensemble import RandomForestClassifier"
   ]
  },
  {
   "cell_type": "code",
   "execution_count": 11,
   "id": "1370b6a6",
   "metadata": {},
   "outputs": [
    {
     "data": {
      "text/plain": [
       "RandomizedSearchCV(estimator=Pipeline(steps=[('pca', PCA(random_state=42)),\n",
       "                                             ('randomforestclassifier',\n",
       "                                              RandomForestClassifier(random_state=42))]),\n",
       "                   param_distributions={'pca__n_components': array([ 2,  3,  4,  5,  6,  7,  8,  9, 10, 11, 12, 13, 14, 15, 16, 17, 18,\n",
       "       19, 20, 21, 22, 23, 24, 25, 26, 27, 28, 29, 30, 31, 32, 33, 34, 35,\n",
       "       36, 37, 38, 39, 40, 41, 42, 43, 44, 45, 46, 47, 48, 49, 50, 51, 52,\n",
       "       53, 54, 55, 56, 57...\n",
       "       407, 408, 409, 410, 411, 412, 413, 414, 415, 416, 417, 418, 419,\n",
       "       420, 421, 422, 423, 424, 425, 426, 427, 428, 429, 430, 431, 432,\n",
       "       433, 434, 435, 436, 437, 438, 439, 440, 441, 442, 443, 444, 445,\n",
       "       446, 447, 448, 449, 450, 451, 452, 453, 454, 455, 456, 457, 458,\n",
       "       459, 460, 461, 462, 463, 464, 465, 466, 467, 468, 469, 470, 471,\n",
       "       472, 473, 474, 475, 476, 477, 478, 479, 480, 481, 482, 483, 484,\n",
       "       485, 486, 487, 488, 489, 490, 491, 492, 493, 494, 495, 496, 497,\n",
       "       498, 499])},\n",
       "                   random_state=42)"
      ]
     },
     "execution_count": 11,
     "metadata": {},
     "output_type": "execute_result"
    }
   ],
   "source": [
    "## make pipeline\n",
    "clf = make_pipeline((PCA(random_state=42)),\n",
    "                   (RandomForestClassifier(random_state=42)))\n",
    "# randomized cv \n",
    "param_distrib = {\n",
    "    \"pca__n_components\": np.arange(2, 100),\n",
    "    \"randomforestclassifier__n_estimators\": np.arange(30, 500)\n",
    "}\n",
    "\n",
    "random_search = RandomizedSearchCV(clf, param_distrib, n_iter=10,\n",
    "                                  random_state=42)\n",
    "# fit \n",
    "random_search.fit(X_train[:1000], y_train[:1000])"
   ]
  },
  {
   "cell_type": "code",
   "execution_count": 12,
   "id": "e3afbc74",
   "metadata": {},
   "outputs": [
    {
     "data": {
      "text/plain": [
       "{'randomforestclassifier__n_estimators': 430, 'pca__n_components': 37}"
      ]
     },
     "execution_count": 12,
     "metadata": {},
     "output_type": "execute_result"
    }
   ],
   "source": [
    "random_search.best_params_"
   ]
  },
  {
   "cell_type": "code",
   "execution_count": 13,
   "id": "79759348",
   "metadata": {},
   "outputs": [],
   "source": [
    "# converting the reduced data to its original \n",
    "X_recovered = pca.inverse_transform(X_reduced)"
   ]
  },
  {
   "cell_type": "markdown",
   "id": "8a82cfac",
   "metadata": {},
   "source": [
    "## Randomized PCA"
   ]
  },
  {
   "cell_type": "code",
   "execution_count": 14,
   "id": "849e989a",
   "metadata": {},
   "outputs": [],
   "source": [
    "rnd_pca = PCA(n_components=154, svd_solver=\"randomized\",\n",
    "             random_state=42)\n",
    "X_reduced = rnd_pca.fit_transform(X_train)\n"
   ]
  },
  {
   "cell_type": "markdown",
   "id": "3fcb234e",
   "metadata": {},
   "source": [
    "`svd_solver=\"randomized\"` uses a stochastic algorithm called Randomized PCA that quickly finds an approximation of the first d principal components"
   ]
  },
  {
   "cell_type": "markdown",
   "id": "29429dbf",
   "metadata": {},
   "source": [
    "## Incremental PCA"
   ]
  },
  {
   "cell_type": "code",
   "execution_count": 15,
   "id": "a43456f8",
   "metadata": {},
   "outputs": [],
   "source": [
    "from sklearn.decomposition import IncrementalPCA\n",
    "\n",
    "n_batches = 100  # set no. of training batches\n",
    "inc_pca = IncrementalPCA(n_components=154)\n",
    "for X_batch in np.array_split(X_train, n_batches):\n",
    "    inc_pca.partial_fit(X_batch)\n",
    "# incremental learning\n",
    "X_reduced = inc_pca.transform(X_train)"
   ]
  },
  {
   "cell_type": "code",
   "execution_count": 16,
   "id": "1ac946da",
   "metadata": {},
   "outputs": [
    {
     "data": {
      "text/plain": [
       "7300"
      ]
     },
     "execution_count": 16,
     "metadata": {},
     "output_type": "execute_result"
    }
   ],
   "source": [
    "from sklearn.random_projection import johnson_lindenstrauss_min_dim\n",
    "\n",
    "m, epsilon = 5_000, 0.1\n",
    "d = johnson_lindenstrauss_min_dim(m, eps=epsilon)\n",
    "d  # reduces dimension to 7300"
   ]
  },
  {
   "cell_type": "code",
   "execution_count": 17,
   "id": "43fadbc2",
   "metadata": {},
   "outputs": [],
   "source": [
    "n = 20_000\n",
    "np.random.seed(42)\n",
    "P = np.random.randn(d, n) / np.sqrt(d) # std dev = square root of variance"
   ]
  },
  {
   "cell_type": "code",
   "execution_count": 18,
   "id": "2f0beb36",
   "metadata": {},
   "outputs": [],
   "source": [
    "X = np.random.randn(m, n) # generate a fake dataset\n",
    "X_reduced = X @ P.T"
   ]
  },
  {
   "cell_type": "code",
   "execution_count": 19,
   "id": "ebcb510d",
   "metadata": {},
   "outputs": [
    {
     "data": {
      "text/plain": [
       "array([[ 0.65601016, -1.52157349, -2.13016582, ..., -3.30298058,\n",
       "         1.86509223, -0.62205374],\n",
       "       [-1.15983875, -1.31973727,  0.13553982, ..., -0.9461484 ,\n",
       "        -0.01875402,  1.15834454],\n",
       "       [-2.79258363,  0.47631317, -3.2293912 , ...,  1.41899815,\n",
       "         3.03817514, -2.07598188],\n",
       "       ...,\n",
       "       [ 0.18867284,  0.58379053,  1.42444552, ...,  0.13507484,\n",
       "         1.83874287, -0.39265772],\n",
       "       [ 2.54718434,  0.32063561, -3.59830134, ...,  0.49247486,\n",
       "         0.46798188,  0.09910125],\n",
       "       [ 3.68422382, -2.65487692,  0.55763148, ...,  2.14734207,\n",
       "        -1.82840766,  0.76915154]])"
      ]
     },
     "execution_count": 19,
     "metadata": {},
     "output_type": "execute_result"
    }
   ],
   "source": [
    "X_reduced"
   ]
  },
  {
   "cell_type": "markdown",
   "id": "a67e0aad",
   "metadata": {},
   "source": [
    "Scikit-Learn offers a `GaussianRandomProjection` class"
   ]
  },
  {
   "cell_type": "code",
   "execution_count": 20,
   "id": "2f770932",
   "metadata": {},
   "outputs": [
    {
     "data": {
      "text/plain": [
       "array([[ 0.65601016, -1.52157349, -2.13016582, ..., -3.30298058,\n",
       "         1.86509223, -0.62205374],\n",
       "       [-1.15983875, -1.31973727,  0.13553982, ..., -0.9461484 ,\n",
       "        -0.01875402,  1.15834454],\n",
       "       [-2.79258363,  0.47631317, -3.2293912 , ...,  1.41899815,\n",
       "         3.03817514, -2.07598188],\n",
       "       ...,\n",
       "       [ 0.18867284,  0.58379053,  1.42444552, ...,  0.13507484,\n",
       "         1.83874287, -0.39265772],\n",
       "       [ 2.54718434,  0.32063561, -3.59830134, ...,  0.49247486,\n",
       "         0.46798188,  0.09910125],\n",
       "       [ 3.68422382, -2.65487692,  0.55763148, ...,  2.14734207,\n",
       "        -1.82840766,  0.76915154]])"
      ]
     },
     "execution_count": 20,
     "metadata": {},
     "output_type": "execute_result"
    }
   ],
   "source": [
    "from sklearn.random_projection import GaussianRandomProjection\n",
    "\n",
    "gaussian_rnd_proj = GaussianRandomProjection(eps=epsilon, random_state=42)\n",
    "X_reduced = gaussian_rnd_proj.fit_transform(X)\n",
    "X_reduced"
   ]
  },
  {
   "cell_type": "code",
   "execution_count": 21,
   "id": "1e27a033",
   "metadata": {},
   "outputs": [],
   "source": [
    "# inverse transformation\n",
    "components_pinv = np.linalg.pinv(gaussian_rnd_proj.components_)\n",
    "X_recovered = X_reduced @ components_pinv.T"
   ]
  },
  {
   "cell_type": "code",
   "execution_count": 22,
   "id": "727df742",
   "metadata": {},
   "outputs": [
    {
     "data": {
      "text/plain": [
       "array([[-0.78285178,  0.47707426,  0.6955112 , ...,  0.98188064,\n",
       "         0.87441748, -0.71906857],\n",
       "       [ 0.97744839, -0.14541327, -0.3545605 , ..., -0.18058073,\n",
       "         0.32781621,  0.81330977],\n",
       "       [ 0.20082204, -0.05543369, -1.29965877, ..., -0.81101979,\n",
       "         0.40761253, -0.61037469],\n",
       "       ...,\n",
       "       [ 0.91281977, -1.12843126,  0.41045219, ..., -0.07550752,\n",
       "         0.17787192,  0.1177291 ],\n",
       "       [ 0.8433102 , -0.78806083,  0.76058445, ..., -0.49409368,\n",
       "        -0.08168829,  0.02277401],\n",
       "       [-0.11412415, -0.30551047,  0.97617111, ..., -0.25285318,\n",
       "        -0.56290596,  0.38087206]])"
      ]
     },
     "execution_count": 22,
     "metadata": {},
     "output_type": "execute_result"
    }
   ],
   "source": [
    "X_recovered "
   ]
  },
  {
   "cell_type": "markdown",
   "id": "1efda5a4",
   "metadata": {},
   "source": [
    "## Locally Linear Embedding (LLE)"
   ]
  },
  {
   "cell_type": "code",
   "execution_count": null,
   "id": "7660f98d",
   "metadata": {},
   "outputs": [],
   "source": []
  },
  {
   "cell_type": "code",
   "execution_count": null,
   "id": "1a500c77",
   "metadata": {},
   "outputs": [],
   "source": []
  }
 ],
 "metadata": {
  "kernelspec": {
   "display_name": "tf",
   "language": "python",
   "name": "tf"
  },
  "language_info": {
   "codemirror_mode": {
    "name": "ipython",
    "version": 3
   },
   "file_extension": ".py",
   "mimetype": "text/x-python",
   "name": "python",
   "nbconvert_exporter": "python",
   "pygments_lexer": "ipython3",
   "version": "3.9.12"
  }
 },
 "nbformat": 4,
 "nbformat_minor": 5
}
